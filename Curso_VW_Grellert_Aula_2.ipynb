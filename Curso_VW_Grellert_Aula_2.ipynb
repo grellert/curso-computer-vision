{
  "nbformat": 4,
  "nbformat_minor": 0,
  "metadata": {
    "colab": {
      "provenance": [],
      "toc_visible": true,
      "authorship_tag": "ABX9TyPNTzVyn2W0aMPjq8QJoZD5",
      "include_colab_link": true
    },
    "kernelspec": {
      "name": "python3",
      "display_name": "Python 3"
    },
    "language_info": {
      "name": "python"
    }
  },
  "cells": [
    {
      "cell_type": "markdown",
      "metadata": {
        "id": "view-in-github",
        "colab_type": "text"
      },
      "source": [
        "<a href=\"https://colab.research.google.com/github/grellert/curso-computer-vision/blob/main/Curso_VW_Grellert_Aula_2.ipynb\" target=\"_parent\"><img src=\"https://colab.research.google.com/assets/colab-badge.svg\" alt=\"Open In Colab\"/></a>"
      ]
    },
    {
      "cell_type": "markdown",
      "source": [],
      "metadata": {
        "id": "bMbijDYmcxbV"
      }
    },
    {
      "cell_type": "markdown",
      "source": [
        "# Curso de Visão Computacional\n",
        "- Autor: Mateus Grellert (INF/UFRGS)\n",
        "- Contato: mateus.grellert@inf.ufrgs.br\n"
      ],
      "metadata": {
        "id": "LKvg0AOzc0ED"
      }
    },
    {
      "cell_type": "markdown",
      "source": [],
      "metadata": {
        "id": "ODaGeUD-c0Bc"
      }
    },
    {
      "cell_type": "markdown",
      "source": [
        "# Setup"
      ],
      "metadata": {
        "id": "lwzpsO9RbZSJ"
      }
    },
    {
      "cell_type": "code",
      "execution_count": null,
      "metadata": {
        "id": "WUcMV7jubEsV"
      },
      "outputs": [],
      "source": [
        "!gdown https://drive.google.com/uc?id=1hyC8RLxt-mQloeE0un-dbI3MnlAA0ATJ\n",
        "!unzip -q chinese_traffic_signs.zip -d chinese_traffic_signs"
      ]
    },
    {
      "cell_type": "code",
      "source": [
        "def compute_iou(bbox1, bbox2):\n",
        "    # prompt: compute the IOU between the two bounding boxes\n",
        "    min_x1, min_y1, max_x1, max_y1 = bbox1\n",
        "    min_x2, min_y2, max_x2, max_y2 = bbox2\n",
        "\n",
        "    intersection_area = (min(max_x1, max_x2) - max(min_x1, min_x2)) * (min(max_y1, max_y2) - max(min_y1, min_y2))\n",
        "\n",
        "    # Compute the area of the union rectangle\n",
        "    union_area = (max_x1 - min_x1) * (max_y1 - min_y1) + (max_x2 - min_x2) * (max_y2 - min_y2) - intersection_area\n",
        "\n",
        "    # Compute the IOU\n",
        "    iou = intersection_area / union_area\n",
        "\n",
        "    return iou\n",
        "\n",
        "def create_image_dataset(img_list, target_list):\n",
        "    imgs_rescale = []\n",
        "\n",
        "    for file_name in img_list:\n",
        "        img = skimage.io.imread(os.path.join(IMG_PATH, file_name))\n",
        "        img = skimage.color.rgb2gray(img)\n",
        "        img_res = skimage.transform.resize(img, (128,128))\n",
        "\n",
        "        imgs_rescale.append(img_res)\n",
        "    imgs_rescale = np.array(imgs_rescale)\n",
        "    X = imgs_rescale\n",
        "    y = np.array(target_list)\n",
        "\n",
        "    return X,y"
      ],
      "metadata": {
        "id": "3I9Y7wRFbHTC"
      },
      "execution_count": null,
      "outputs": []
    },
    {
      "cell_type": "code",
      "source": [
        "import pandas as pd\n",
        "import os\n",
        "\n",
        "IMG_PATH = 'chinese_traffic_signs/images'\n",
        "\n",
        "# Get a list of all image files in the \"images\" folder\n",
        "image_files = [f for f in os.listdir(IMG_PATH) if f.endswith('.png')]\n",
        "\n",
        "# Load the annotations file\n",
        "annotations_df = pd.read_csv('chinese_traffic_signs/annotations.csv')\n",
        "\n",
        "# Merge the image paths and the annotations\n",
        "dataset = pd.DataFrame({\n",
        "    'file_name': image_files,\n",
        "})\n",
        "\n",
        "# Merge the image paths and the annotations based on the image name\n",
        "dataset = dataset.merge(annotations_df, on='file_name')\n",
        "\n",
        "# Print the dataset\n",
        "print(dataset)"
      ],
      "metadata": {
        "id": "01G-4Ur1bSht"
      },
      "execution_count": null,
      "outputs": []
    },
    {
      "cell_type": "code",
      "source": [
        "import matplotlib.pyplot as plt\n",
        "import skimage\n",
        "\n",
        "fig, axes = plt.subplots(1, 6, figsize=(15, 3))\n",
        "for i in range(6):\n",
        "    # Filter the dataset to only include images of the current category\n",
        "    category_images = dataset[dataset['category'] == i]\n",
        "\n",
        "    # Select the first image from the filtered dataset\n",
        "    image_file = category_images['file_name'].iloc[0]\n",
        "    image_path = os.path.join(IMG_PATH, image_file)\n",
        "\n",
        "    # Load the image\n",
        "    image = skimage.io.imread(image_path)\n",
        "\n",
        "    # Plot the image\n",
        "    axes[i].imshow(image)\n",
        "    axes[i].set_title(f'Category {i}')\n",
        "plt.show()\n"
      ],
      "metadata": {
        "id": "CZVAvuQ-bWVK"
      },
      "execution_count": null,
      "outputs": []
    },
    {
      "cell_type": "code",
      "source": [
        "import numpy as np\n",
        "import skimage\n",
        "\n",
        "\n",
        "X,y = create_image_dataset(dataset['file_name'].values, dataset['category'].values)"
      ],
      "metadata": {
        "id": "lk0kcj1dbYIU"
      },
      "execution_count": null,
      "outputs": []
    },
    {
      "cell_type": "markdown",
      "source": [
        "# Prática"
      ],
      "metadata": {
        "id": "sane07yLbhJp"
      }
    },
    {
      "cell_type": "code",
      "source": [],
      "metadata": {
        "id": "UkF7Y04abiBL"
      },
      "execution_count": null,
      "outputs": []
    }
  ]
}